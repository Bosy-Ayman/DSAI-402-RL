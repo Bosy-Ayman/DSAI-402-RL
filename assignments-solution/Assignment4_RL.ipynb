{
  "nbformat": 4,
  "nbformat_minor": 0,
  "metadata": {
    "colab": {
      "provenance": [],
      "authorship_tag": "ABX9TyN3bCWh2kTAKizO90VScp5i",
      "include_colab_link": true
    },
    "kernelspec": {
      "name": "python3",
      "display_name": "Python 3"
    },
    "language_info": {
      "name": "python"
    }
  },
  "cells": [
    {
      "cell_type": "markdown",
      "metadata": {
        "id": "view-in-github",
        "colab_type": "text"
      },
      "source": [
        "<a href=\"https://colab.research.google.com/github/Bosy-Ayman/DSAI-402-RL/blob/main/Assignment4_RL.ipynb\" target=\"_parent\"><img src=\"https://colab.research.google.com/assets/colab-badge.svg\" alt=\"Open In Colab\"/></a>"
      ]
    },
    {
      "cell_type": "code",
      "source": [
        "import gymnasium as gym\n",
        "from gymnasium import spaces\n",
        "import numpy as np\n",
        "import itertools\n"
      ],
      "metadata": {
        "id": "ybQLclC7jfrh"
      },
      "execution_count": null,
      "outputs": []
    },
    {
      "cell_type": "code",
      "source": [
        "class HanoiEnv(gym.Env):\n",
        "    def __init__(self, n_disks=3, n_pegs=3):\n",
        "        super(HanoiEnv, self).__init__()\n",
        "\n",
        "        self.n_disks = n_disks\n",
        "        self.n_pegs = n_pegs\n",
        "        self.observation_space = spaces.MultiDiscrete([n_pegs] * n_disks)\n",
        "\n",
        "        # 3 pegs → 6 actions\n",
        "        self.actions = []\n",
        "        for i in range(n_pegs):\n",
        "            for j in range(n_pegs):\n",
        "                if i != j:\n",
        "                    self.actions.append((i, j))\n",
        "\n",
        "        self.action_space = spaces.Discrete(len(self.actions))\n",
        "\n",
        "        self.start_state = tuple([0] * self.n_disks)\n",
        "        self.goal_state = tuple([self.n_pegs - 1] * self.n_disks)\n",
        "        self.state = None\n",
        "\n",
        "    def reset(self, seed=None, options=None):\n",
        "        self.state = self.start_state\n",
        "        return np.array(self.state), {}\n",
        "\n",
        "    def get_top_disk(self, peg):\n",
        "        for disk in range(self.n_disks):\n",
        "            if self.state[disk] == peg:\n",
        "                return disk\n",
        "        return None\n",
        "\n",
        "    def is_valid(self, from_peg, to_peg):\n",
        "        d1 = self.get_top_disk(from_peg)\n",
        "        d2 = self.get_top_disk(to_peg)\n",
        "        if d1 is None:\n",
        "            return False\n",
        "        if d2 is None:\n",
        "            return True\n",
        "        return d1 < d2\n",
        "\n",
        "    # Convert action index → actual move\n",
        "    def step(self, action):\n",
        "        from_peg, to_peg = self.actions[action]\n",
        "\n",
        "        if self.is_valid(from_peg, to_peg):\n",
        "            state_list = list(self.state)\n",
        "            disk = self.get_top_disk(from_peg)\n",
        "            state_list[disk] = to_peg\n",
        "            self.state = tuple(state_list)\n",
        "\n",
        "        reward = -1\n",
        "        done = (self.state == self.goal_state)\n",
        "        return np.array(self.state), reward, done, False, {}\n",
        "\n",
        "    def render(self):\n",
        "        print(f\"State: {self.state}\")\n"
      ],
      "metadata": {
        "id": "Y5Ns1gpdjRsy"
      },
      "execution_count": 17,
      "outputs": []
    },
    {
      "cell_type": "markdown",
      "source": [
        "# Policy evaluation & improvement functions"
      ],
      "metadata": {
        "id": "WSzEKGSJl3x2"
      }
    },
    {
      "cell_type": "markdown",
      "source": [
        "![image.png](data:image/png;base64,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)"
      ],
      "metadata": {
        "id": "bdUiSp3Altti"
      }
    },
    {
      "cell_type": "code",
      "source": [
        "def evaluate_policy(env, policy, V, gamma=0.9, theta=1e-6):\n",
        "    while True:\n",
        "        delta = 0\n",
        "        for s in states:\n",
        "            if tuple(s) == env.goal_state:\n",
        "                continue\n",
        "            v_old = V[tuple(s)]\n",
        "            a = policy[tuple(s)]\n",
        "            env.state = tuple(s)\n",
        "            next_s, r, d, _, _ = env.step(a)\n",
        "            V[tuple(s)] = r + gamma * V[tuple(next_s)]\n",
        "            delta = max(delta, abs(v_old - V[tuple(s)]))\n",
        "        if delta < theta:\n",
        "            break\n",
        "\n"
      ],
      "metadata": {
        "id": "6tS67gbKjptv"
      },
      "execution_count": 18,
      "outputs": []
    },
    {
      "cell_type": "markdown",
      "source": [
        "### pick the action with the highest value"
      ],
      "metadata": {
        "id": "XhbkYl4unQUs"
      }
    },
    {
      "cell_type": "code",
      "source": [
        "\n",
        "def improve_policy(env, policy, V, gamma=0.9):\n",
        "    stable = True\n",
        "    for s in states:\n",
        "        if tuple(s) == env.goal_state:\n",
        "            continue\n",
        "        old_a = policy[tuple(s)]\n",
        "        best_value = -1e9\n",
        "        best_a = 0\n",
        "        for a in range(env.action_space.n):\n",
        "            env.state = tuple(s)\n",
        "            next_s, r, d, _, _ = env.step(a)\n",
        "            val = r + gamma * V[tuple(next_s)]\n",
        "            if val > best_value:\n",
        "                best_value = val\n",
        "                best_a = a\n",
        "        policy[tuple(s)] = best_a\n",
        "        if best_a != old_a:\n",
        "            stable = False\n",
        "    return stable"
      ],
      "metadata": {
        "id": "rD723rxbjnp6"
      },
      "execution_count": 20,
      "outputs": []
    },
    {
      "cell_type": "code",
      "source": [
        "def print_policy(env, policy):\n",
        "    print(\"\\n Optimal Policy \\n\")\n",
        "    sorted_states = sorted(states)\n",
        "\n",
        "    for s in sorted_states:\n",
        "        if s == env.goal_state:\n",
        "            print(f\"State {s} (Goal) => Terminal\")\n",
        "            continue\n",
        "\n",
        "        action = policy[s]\n",
        "        move = env.actions[action]\n",
        "        print(f\"State {s} -> Move disk from Peg {move[0]} to Peg {move[1]}\")\n"
      ],
      "metadata": {
        "id": "biBWrX3Dka52"
      },
      "execution_count": 23,
      "outputs": []
    },
    {
      "cell_type": "code",
      "source": [
        "print_policy(env, policy)\n"
      ],
      "metadata": {
        "colab": {
          "base_uri": "https://localhost:8080/"
        },
        "id": "NEASXJfjkedd",
        "outputId": "7b8c866c-3769-45f3-9830-886c4ea6bb89"
      },
      "execution_count": 24,
      "outputs": [
        {
          "output_type": "stream",
          "name": "stdout",
          "text": [
            "\n",
            "--- Optimal Policy (Action to take in each state) ---\n",
            "\n",
            "State (0, 0, 0) -> Move disk from Peg 0 to Peg 2\n",
            "State (0, 0, 1) -> Move disk from Peg 1 to Peg 2\n",
            "State (0, 0, 2) -> Move disk from Peg 0 to Peg 1\n",
            "State (0, 1, 0) -> Move disk from Peg 0 to Peg 1\n",
            "State (0, 1, 1) -> Move disk from Peg 0 to Peg 2\n",
            "State (0, 1, 2) -> Move disk from Peg 1 to Peg 2\n",
            "State (0, 2, 0) -> Move disk from Peg 2 to Peg 1\n",
            "State (0, 2, 1) -> Move disk from Peg 0 to Peg 1\n",
            "State (0, 2, 2) -> Move disk from Peg 0 to Peg 2\n",
            "State (1, 0, 0) -> Move disk from Peg 1 to Peg 2\n",
            "State (1, 0, 1) -> Move disk from Peg 1 to Peg 0\n",
            "State (1, 0, 2) -> Move disk from Peg 0 to Peg 2\n",
            "State (1, 1, 0) -> Move disk from Peg 0 to Peg 2\n",
            "State (1, 1, 1) -> Move disk from Peg 1 to Peg 2\n",
            "State (1, 1, 2) -> Move disk from Peg 1 to Peg 0\n",
            "State (1, 2, 0) -> Move disk from Peg 1 to Peg 0\n",
            "State (1, 2, 1) -> Move disk from Peg 2 to Peg 0\n",
            "State (1, 2, 2) -> Move disk from Peg 1 to Peg 2\n",
            "State (2, 0, 0) -> Move disk from Peg 0 to Peg 1\n",
            "State (2, 0, 1) -> Move disk from Peg 2 to Peg 0\n",
            "State (2, 0, 2) -> Move disk from Peg 2 to Peg 1\n",
            "State (2, 1, 0) -> Move disk from Peg 2 to Peg 1\n",
            "State (2, 1, 1) -> Move disk from Peg 1 to Peg 0\n",
            "State (2, 1, 2) -> Move disk from Peg 2 to Peg 0\n",
            "State (2, 2, 0) -> Move disk from Peg 2 to Peg 0\n",
            "State (2, 2, 1) -> Move disk from Peg 2 to Peg 1\n",
            "State (2, 2, 2) (Goal) => Terminal\n"
          ]
        }
      ]
    },
    {
      "cell_type": "code",
      "source": [
        "env = HanoiEnv(n_disks=3, n_pegs=3)\n",
        "\n",
        "states = list(itertools.product(range(env.n_pegs), repeat=env.n_disks))\n",
        "V = {s: 0 for s in states}\n",
        "policy = {s: env.action_space.sample() for s in states}\n",
        "\n",
        "iteration = 0\n",
        "while True:\n",
        "    iteration += 1\n",
        "    evaluate_policy(env, policy, V)\n",
        "    if improve_policy(env, policy, V):\n",
        "        break\n",
        "\n",
        "print(f\"\\nPolicy converged in {iteration} iterations\")\n",
        "print(f\"State Value: {V[env.start_state]:.2f}\")"
      ],
      "metadata": {
        "colab": {
          "base_uri": "https://localhost:8080/"
        },
        "id": "jvIvt3FwjbBs",
        "outputId": "fe77fa01-aaf1-4293-e0c6-151ba11dfdc3"
      },
      "execution_count": 22,
      "outputs": [
        {
          "output_type": "stream",
          "name": "stdout",
          "text": [
            "\n",
            "Policy converged in 7 iterations\n",
            "Start State Value: -5.22\n"
          ]
        }
      ]
    }
  ]
}
