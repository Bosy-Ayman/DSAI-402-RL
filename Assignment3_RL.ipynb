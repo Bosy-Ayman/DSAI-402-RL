{
  "nbformat": 4,
  "nbformat_minor": 0,
  "metadata": {
    "colab": {
      "provenance": [],
      "authorship_tag": "ABX9TyN76eOG8EYP4A2kabHU8Poi",
      "include_colab_link": true
    },
    "kernelspec": {
      "name": "python3",
      "display_name": "Python 3"
    },
    "language_info": {
      "name": "python"
    }
  },
  "cells": [
    {
      "cell_type": "markdown",
      "metadata": {
        "id": "view-in-github",
        "colab_type": "text"
      },
      "source": [
        "<a href=\"https://colab.research.google.com/github/Bosy-Ayman/DSAI-402-RL/blob/main/Assignment3_RL.ipynb\" target=\"_parent\"><img src=\"https://colab.research.google.com/assets/colab-badge.svg\" alt=\"Open In Colab\"/></a>"
      ]
    },
    {
      "cell_type": "code",
      "source": [
        "NUM_DISKS = 3\n",
        "PEGS = ('A', 'B', 'C')         # 0->A, 1->B, 2->C\n",
        "GOAL_STATE = (2, 2, 2)         # (C, C, C)\n",
        "\n",
        "\n"
      ],
      "metadata": {
        "id": "OijCmLOGx6Ye"
      },
      "execution_count": 26,
      "outputs": []
    },
    {
      "cell_type": "code",
      "source": [
        "def get_next_state(state, disk_to_move, to_peg_num):\n",
        "    new_state = list(state)\n",
        "    new_state[disk_to_move - 1] = to_peg_num\n",
        "    return tuple(new_state)\n",
        "\n"
      ],
      "metadata": {
        "id": "GgN62EloyKqR"
      },
      "execution_count": 27,
      "outputs": []
    },
    {
      "cell_type": "code",
      "source": [
        "\n",
        "def is_legal_move(state, from_peg, to_peg):\n",
        "    disk_to_move = None\n",
        "\n",
        "    for disk in range(1, NUM_DISKS + 1):\n",
        "        if state[disk - 1] == from_peg:\n",
        "            disk_to_move = disk\n",
        "            break\n",
        "\n",
        "    if disk_to_move is None:\n",
        "        return False, None\n",
        "\n",
        "    # Find top disk\n",
        "    top_disk_target = None\n",
        "    for disk in range(1, NUM_DISKS + 1):\n",
        "        if state[disk - 1] == to_peg:\n",
        "            top_disk_target = disk\n",
        "            break\n",
        "\n",
        "    # Rule check\n",
        "    if top_disk_target is not None and disk_to_move > top_disk_target:\n",
        "        return False, None\n",
        "\n",
        "    return True, disk_to_move"
      ],
      "metadata": {
        "id": "uW6ivcJVyMRt"
      },
      "execution_count": 28,
      "outputs": []
    },
    {
      "cell_type": "code",
      "source": [
        "\n",
        "current_disk_to_try = 1\n",
        "\n",
        "def naive_policy(state):\n",
        "    global current_disk_to_try\n",
        "    if state == GOAL_STATE:\n",
        "        return None, None, None\n",
        "    NUM_DISKS = len(state)\n",
        "\n",
        "    # First try forward moves (A→B→C)\n",
        "    for i in range(NUM_DISKS):\n",
        "        disk_to_try = ((current_disk_to_try - 1 + i) % NUM_DISKS) + 1\n",
        "        from_peg = state[disk_to_try - 1]\n",
        "\n",
        "        for to_peg in range(3):\n",
        "            if to_peg == from_peg:\n",
        "                continue\n",
        "            legal, disk = is_legal_move(state, from_peg, to_peg)\n",
        "            if legal and disk == disk_to_try:\n",
        "                current_disk_to_try = (disk_to_try % NUM_DISKS) + 1\n",
        "                return from_peg, to_peg, disk_to_try\n",
        "\n",
        "    return None, None, None\n"
      ],
      "metadata": {
        "id": "tAMryUgdyH7T"
      },
      "execution_count": 29,
      "outputs": []
    },
    {
      "cell_type": "code",
      "source": [
        "\n",
        "def print_pegs(state):\n",
        "    pegs = {0: [], 1: [], 2: []}\n",
        "    for disk in range(NUM_DISKS, 0, -1):\n",
        "        pegs[state[disk - 1]].append(disk)\n",
        "    print(f\"A: {pegs[0]}\")\n",
        "    print(f\"B: {pegs[1]}\")\n",
        "    print(f\"C: {pegs[2]}\")\n",
        "    print()\n",
        "\n",
        "\n",
        "\n"
      ],
      "metadata": {
        "id": "Jh0h5ZBeyFmg"
      },
      "execution_count": 30,
      "outputs": []
    },
    {
      "cell_type": "code",
      "source": [
        "\n",
        "def print_pegs_stacks(stacks):\n",
        "    for p in range(3):\n",
        "        print(f\"{PEGS[p]}: {stacks[p]}\")\n",
        "    print()\n",
        "\n",
        "\n"
      ],
      "metadata": {
        "id": "Dhtyh2I4yEQc"
      },
      "execution_count": 31,
      "outputs": []
    },
    {
      "cell_type": "code",
      "source": [
        "def legal_move(fr, to, stacks):\n",
        "    if len(stacks[fr]) == 0:\n",
        "        return False\n",
        "    if len(stacks[to]) == 0 or stacks[fr][-1] < stacks[to][-1]:\n",
        "        disk = stacks[fr].pop()\n",
        "        stacks[to].append(disk)\n",
        "        print(f\"Move Disk {disk} {PEGS[fr]} → {PEGS[to]}\")\n",
        "        return True\n",
        "    else:\n",
        "        return False\n"
      ],
      "metadata": {
        "id": "J5d02cn0yC7n"
      },
      "execution_count": 32,
      "outputs": []
    },
    {
      "cell_type": "code",
      "source": [
        "def iterative_naive_solve(n=NUM_DISKS, src=0, aux=1, dest=2):\n",
        "    stacks = [[], [], []]\n",
        "    stacks[src] = list(range(n, 0, -1))\n",
        "    total_moves = (1 << n) - 1\n",
        "    if n % 2 == 0:\n",
        "        aux, dest = dest, aux\n",
        "    print(\"Initial:\")\n",
        "    print_pegs_stacks(stacks)\n",
        "    step = 0\n",
        "    for i in range(1, total_moves + 1):\n",
        "        if i % 3 == 1:\n",
        "            if not legal_move(src, dest, stacks):\n",
        "                legal_move(dest, src, stacks)\n",
        "        elif i % 3 == 2:\n",
        "            if not legal_move(src, aux, stacks):\n",
        "                legal_move(aux, src, stacks)\n",
        "        else:\n",
        "            if not legal_move(aux, dest, stacks):\n",
        "                legal_move(dest, aux, stacks)\n",
        "        step += 1\n",
        "        print_pegs_stacks(stacks)\n",
        "    print(f\"Goal reached in {step} moves.\")\n"
      ],
      "metadata": {
        "id": "oiS0W2bhyBoZ"
      },
      "execution_count": 33,
      "outputs": []
    },
    {
      "cell_type": "code",
      "source": [
        "\n",
        "def one_iteration():\n",
        "    value_function = {}\n",
        "    for d1 in range(3):\n",
        "        for d2 in range(3):\n",
        "            for d3 in range(3):\n",
        "                state = (d1, d2, d3)\n",
        "                from_peg, to_peg, disk = naive_policy(state)\n",
        "                if from_peg is None:\n",
        "                    next_state = state\n",
        "                else:\n",
        "                    next_state = get_next_state(state, disk, to_peg)\n",
        "\n",
        "                reward = 1 if next_state == GOAL_STATE else 0\n",
        "                value_function[tuple(PEGS[p] for p in state)] = reward\n",
        "    return value_function\n"
      ],
      "metadata": {
        "id": "yeR_eJs8x8Rq"
      },
      "execution_count": 34,
      "outputs": []
    },
    {
      "cell_type": "code",
      "source": [
        "print(\"--- Iterative Naive Policy Simulation ---\")\n",
        "iterative_naive_solve()\n",
        "\n",
        "print(\"\\n--- Value Function v_pi After One Iteration  ---\")\n",
        "v1 = one_iteration()\n",
        "for s in sorted(v1.keys()):\n",
        "    print(f\"State {s}: {v1[s]}\")"
      ],
      "metadata": {
        "colab": {
          "base_uri": "https://localhost:8080/"
        },
        "id": "s8XmtSR7x-Fp",
        "outputId": "6b91108b-9c81-4c98-e9de-a3d288cf81e3"
      },
      "execution_count": 37,
      "outputs": [
        {
          "output_type": "stream",
          "name": "stdout",
          "text": [
            "--- Iterative Naive Policy Simulation ---\n",
            "Initial:\n",
            "A: [3, 2, 1]\n",
            "B: []\n",
            "C: []\n",
            "\n",
            "Move Disk 1 A → C\n",
            "A: [3, 2]\n",
            "B: []\n",
            "C: [1]\n",
            "\n",
            "Move Disk 2 A → B\n",
            "A: [3]\n",
            "B: [2]\n",
            "C: [1]\n",
            "\n",
            "Move Disk 1 C → B\n",
            "A: [3]\n",
            "B: [2, 1]\n",
            "C: []\n",
            "\n",
            "Move Disk 3 A → C\n",
            "A: []\n",
            "B: [2, 1]\n",
            "C: [3]\n",
            "\n",
            "Move Disk 1 B → A\n",
            "A: [1]\n",
            "B: [2]\n",
            "C: [3]\n",
            "\n",
            "Move Disk 2 B → C\n",
            "A: [1]\n",
            "B: []\n",
            "C: [3, 2]\n",
            "\n",
            "Move Disk 1 A → C\n",
            "A: []\n",
            "B: []\n",
            "C: [3, 2, 1]\n",
            "\n",
            "Goal reached in 7 moves.\n",
            "\n",
            "--- Value Function v_pi After One Iteration  ---\n",
            "State ('A', 'A', 'A'): 0\n",
            "State ('A', 'A', 'B'): 0\n",
            "State ('A', 'A', 'C'): 0\n",
            "State ('A', 'B', 'A'): 0\n",
            "State ('A', 'B', 'B'): 0\n",
            "State ('A', 'B', 'C'): 0\n",
            "State ('A', 'C', 'A'): 0\n",
            "State ('A', 'C', 'B'): 0\n",
            "State ('A', 'C', 'C'): 0\n",
            "State ('B', 'A', 'A'): 0\n",
            "State ('B', 'A', 'B'): 0\n",
            "State ('B', 'A', 'C'): 0\n",
            "State ('B', 'B', 'A'): 0\n",
            "State ('B', 'B', 'B'): 0\n",
            "State ('B', 'B', 'C'): 0\n",
            "State ('B', 'C', 'A'): 0\n",
            "State ('B', 'C', 'B'): 0\n",
            "State ('B', 'C', 'C'): 0\n",
            "State ('C', 'A', 'A'): 0\n",
            "State ('C', 'A', 'B'): 0\n",
            "State ('C', 'A', 'C'): 0\n",
            "State ('C', 'B', 'A'): 0\n",
            "State ('C', 'B', 'B'): 0\n",
            "State ('C', 'B', 'C'): 0\n",
            "State ('C', 'C', 'A'): 0\n",
            "State ('C', 'C', 'B'): 0\n",
            "State ('C', 'C', 'C'): 1\n"
          ]
        }
      ]
    }
  ]
}